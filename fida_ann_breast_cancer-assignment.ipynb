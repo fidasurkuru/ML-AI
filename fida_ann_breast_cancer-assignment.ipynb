{
 "cells": [
  {
   "cell_type": "code",
   "execution_count": 1,
   "metadata": {
    "id": "iuDzBIVnvOUc"
   },
   "outputs": [],
   "source": [
    "import pandas as pd"
   ]
  },
  {
   "cell_type": "code",
   "execution_count": 2,
   "metadata": {
    "id": "XzFPgZzPvp5y"
   },
   "outputs": [],
   "source": [
    "data = pd.read_csv(\"breastcancer.csv\")"
   ]
  },
  {
   "cell_type": "code",
   "execution_count": 3,
   "metadata": {
    "colab": {
     "base_uri": "https://localhost:8080/"
    },
    "id": "jgWXKusHvuz_",
    "outputId": "6b9900bc-6f84-46ca-d1ba-0567e2672b60"
   },
   "outputs": [
    {
     "data": {
      "text/plain": [
       "Index(['id', 'diagnosis', 'radius_mean', 'texture_mean', 'perimeter_mean',\n",
       "       'area_mean', 'smoothness_mean', 'compactness_mean', 'concavity_mean',\n",
       "       'concave points_mean', 'symmetry_mean', 'fractal_dimension_mean',\n",
       "       'radius_se', 'texture_se', 'perimeter_se', 'area_se', 'smoothness_se',\n",
       "       'compactness_se', 'concavity_se', 'concave points_se', 'symmetry_se',\n",
       "       'fractal_dimension_se', 'radius_worst', 'texture_worst',\n",
       "       'perimeter_worst', 'area_worst', 'smoothness_worst',\n",
       "       'compactness_worst', 'concavity_worst', 'concave points_worst',\n",
       "       'symmetry_worst', 'fractal_dimension_worst', 'Unnamed: 32'],\n",
       "      dtype='object')"
      ]
     },
     "execution_count": 3,
     "metadata": {},
     "output_type": "execute_result"
    }
   ],
   "source": [
    "data.columns"
   ]
  },
  {
   "cell_type": "code",
   "execution_count": 4,
   "metadata": {
    "colab": {
     "base_uri": "https://localhost:8080/"
    },
    "id": "WBV-ReCQv0qc",
    "outputId": "1e30dcfc-e63f-4159-f24e-6e4ae04e6719"
   },
   "outputs": [
    {
     "data": {
      "text/plain": [
       "id                           0\n",
       "diagnosis                    0\n",
       "radius_mean                  0\n",
       "texture_mean                 0\n",
       "perimeter_mean               0\n",
       "area_mean                    0\n",
       "smoothness_mean              0\n",
       "compactness_mean             0\n",
       "concavity_mean               0\n",
       "concave points_mean          0\n",
       "symmetry_mean                0\n",
       "fractal_dimension_mean       0\n",
       "radius_se                    0\n",
       "texture_se                   0\n",
       "perimeter_se                 0\n",
       "area_se                      0\n",
       "smoothness_se                0\n",
       "compactness_se               0\n",
       "concavity_se                 0\n",
       "concave points_se            0\n",
       "symmetry_se                  0\n",
       "fractal_dimension_se         0\n",
       "radius_worst                 0\n",
       "texture_worst                0\n",
       "perimeter_worst              0\n",
       "area_worst                   0\n",
       "smoothness_worst             0\n",
       "compactness_worst            0\n",
       "concavity_worst              0\n",
       "concave points_worst         0\n",
       "symmetry_worst               0\n",
       "fractal_dimension_worst      0\n",
       "Unnamed: 32                569\n",
       "dtype: int64"
      ]
     },
     "execution_count": 4,
     "metadata": {},
     "output_type": "execute_result"
    }
   ],
   "source": [
    "data.isna().sum()"
   ]
  },
  {
   "cell_type": "code",
   "execution_count": 5,
   "metadata": {
    "id": "c8Cb_VCHwBTZ"
   },
   "outputs": [],
   "source": [
    "x = data[[ 'radius_mean', 'texture_mean', 'perimeter_mean',\n",
    "       'area_mean', 'smoothness_mean', 'compactness_mean', 'concavity_mean',\n",
    "       'concave points_mean', 'symmetry_mean', 'fractal_dimension_mean',\n",
    "       'radius_se', 'texture_se', 'perimeter_se', 'area_se', 'smoothness_se',\n",
    "       'compactness_se', 'concavity_se', 'concave points_se', 'symmetry_se',\n",
    "       'fractal_dimension_se', 'radius_worst', 'texture_worst',\n",
    "       'perimeter_worst', 'area_worst', 'smoothness_worst',\n",
    "       'compactness_worst', 'concavity_worst', 'concave points_worst',\n",
    "       'symmetry_worst', 'fractal_dimension_worst']]"
   ]
  },
  {
   "cell_type": "code",
   "execution_count": 6,
   "metadata": {
    "id": "VxFFlWGSwPQ6"
   },
   "outputs": [],
   "source": [
    "y = data['diagnosis']"
   ]
  },
  {
   "cell_type": "code",
   "execution_count": 7,
   "metadata": {
    "colab": {
     "base_uri": "https://localhost:8080/"
    },
    "id": "1A2yIpuVwT4q",
    "outputId": "55215f30-53ff-4648-cf04-6080ed5f245a"
   },
   "outputs": [
    {
     "data": {
      "text/plain": [
       "B    357\n",
       "M    212\n",
       "Name: diagnosis, dtype: int64"
      ]
     },
     "execution_count": 7,
     "metadata": {},
     "output_type": "execute_result"
    }
   ],
   "source": [
    "y.value_counts()"
   ]
  },
  {
   "cell_type": "code",
   "execution_count": 8,
   "metadata": {
    "id": "eZdmKLC6wU4S"
   },
   "outputs": [],
   "source": [
    "y  = y.map({\"B\":0,\"M\":1})"
   ]
  },
  {
   "cell_type": "code",
   "execution_count": 9,
   "metadata": {
    "id": "NXqNESkVwfsV"
   },
   "outputs": [],
   "source": [
    "from sklearn.model_selection import train_test_split"
   ]
  },
  {
   "cell_type": "code",
   "execution_count": 10,
   "metadata": {
    "id": "MlOUwLc8wpK8"
   },
   "outputs": [],
   "source": [
    "x_train, x_test, y_train, y_test = train_test_split(x,y,\n",
    "                                                     test_size=0.2,\n",
    "                                                     random_state = 134)"
   ]
  },
  {
   "cell_type": "code",
   "execution_count": 11,
   "metadata": {
    "colab": {
     "base_uri": "https://localhost:8080/"
    },
    "id": "DAFGrVTrxaht",
    "outputId": "d79e671f-40ad-4b60-fbe9-85056b1ec455"
   },
   "outputs": [
    {
     "data": {
      "text/plain": [
       "(455, 30)"
      ]
     },
     "execution_count": 11,
     "metadata": {},
     "output_type": "execute_result"
    }
   ],
   "source": [
    "x_train.shape"
   ]
  },
  {
   "cell_type": "code",
   "execution_count": 12,
   "metadata": {
    "id": "I95cXZ8Zwzcv"
   },
   "outputs": [],
   "source": [
    "from tensorflow.keras.models import Sequential"
   ]
  },
  {
   "cell_type": "code",
   "execution_count": 13,
   "metadata": {
    "id": "iE_jtd__xHOc"
   },
   "outputs": [],
   "source": [
    "from tensorflow.keras.layers import Dense"
   ]
  },
  {
   "cell_type": "code",
   "execution_count": 14,
   "metadata": {
    "colab": {
     "base_uri": "https://localhost:8080/"
    },
    "id": "PgqN-gzXxKku",
    "outputId": "0f58c4c0-e714-44b8-bbee-fed0c38fcbf1"
   },
   "outputs": [
    {
     "name": "stdout",
     "output_type": "stream",
     "text": [
      "Model: \"sequential\"\n",
      "_________________________________________________________________\n",
      " Layer (type)                Output Shape              Param #   \n",
      "=================================================================\n",
      " dense (Dense)               (None, 32)                992       \n",
      "                                                                 \n",
      " dense_1 (Dense)             (None, 32)                1056      \n",
      "                                                                 \n",
      " dense_2 (Dense)             (None, 1)                 33        \n",
      "                                                                 \n",
      "=================================================================\n",
      "Total params: 2,081\n",
      "Trainable params: 2,081\n",
      "Non-trainable params: 0\n",
      "_________________________________________________________________\n"
     ]
    }
   ],
   "source": [
    "model1 = Sequential()\n",
    "model1.add(Dense(32, input_shape = (30,), activation = \"relu\"))\n",
    "model1.add(Dense(32, activation = \"relu\"))\n",
    "model1.add(Dense(1, activation = \"sigmoid\"))\n",
    "model1.summary()"
   ]
  },
  {
   "cell_type": "code",
   "execution_count": 15,
   "metadata": {
    "id": "b2a5v4RExwCY"
   },
   "outputs": [],
   "source": [
    "model1.compile(optimizer = \"sgd\", loss = \"binary_crossentropy\",\n",
    "               metrics = [\"accuracy\"])"
   ]
  },
  {
   "cell_type": "code",
   "execution_count": 16,
   "metadata": {
    "colab": {
     "base_uri": "https://localhost:8080/"
    },
    "id": "xlDD9NZ1x7H0",
    "outputId": "d2cc6d9d-d76b-48a4-f768-b272018e146e"
   },
   "outputs": [
    {
     "name": "stdout",
     "output_type": "stream",
     "text": [
      "Epoch 1/10\n",
      "15/15 [==============================] - 2s 6ms/step - loss: 993.6591 - accuracy: 0.5956\n",
      "Epoch 2/10\n",
      "15/15 [==============================] - 0s 4ms/step - loss: 0.6556 - accuracy: 0.6549\n",
      "Epoch 3/10\n",
      "15/15 [==============================] - 0s 4ms/step - loss: 0.6476 - accuracy: 0.6549\n",
      "Epoch 4/10\n",
      "15/15 [==============================] - 0s 4ms/step - loss: 0.6422 - accuracy: 0.6549\n",
      "Epoch 5/10\n",
      "15/15 [==============================] - 0s 3ms/step - loss: 0.6387 - accuracy: 0.6549\n",
      "Epoch 6/10\n",
      "15/15 [==============================] - 0s 7ms/step - loss: 0.6373 - accuracy: 0.6549\n",
      "Epoch 7/10\n",
      "15/15 [==============================] - 0s 7ms/step - loss: 0.6364 - accuracy: 0.6549\n",
      "Epoch 8/10\n",
      "15/15 [==============================] - 0s 7ms/step - loss: 0.6354 - accuracy: 0.6549\n",
      "Epoch 9/10\n",
      "15/15 [==============================] - 0s 9ms/step - loss: 0.6346 - accuracy: 0.6549\n",
      "Epoch 10/10\n",
      "15/15 [==============================] - 0s 8ms/step - loss: 0.6343 - accuracy: 0.6549\n"
     ]
    },
    {
     "data": {
      "text/plain": [
       "<keras.callbacks.History at 0x15e9b803f70>"
      ]
     },
     "execution_count": 16,
     "metadata": {},
     "output_type": "execute_result"
    }
   ],
   "source": [
    "model1.fit(x_train, y_train, epochs = 10)"
   ]
  },
  {
   "cell_type": "code",
   "execution_count": 24,
   "metadata": {},
   "outputs": [
    {
     "name": "stdout",
     "output_type": "stream",
     "text": [
      "Epoch 1/10\n",
      "15/15 [==============================] - 1s 22ms/step - loss: 0.7312 - accuracy: 0.4549 - val_loss: 0.6128 - val_accuracy: 0.7982\n",
      "Epoch 2/10\n",
      "15/15 [==============================] - 0s 9ms/step - loss: 0.5869 - accuracy: 0.8374 - val_loss: 0.5123 - val_accuracy: 0.8684\n",
      "Epoch 3/10\n",
      "15/15 [==============================] - 0s 6ms/step - loss: 0.4999 - accuracy: 0.8989 - val_loss: 0.4441 - val_accuracy: 0.8947\n",
      "Epoch 4/10\n",
      "15/15 [==============================] - 0s 4ms/step - loss: 0.4350 - accuracy: 0.9209 - val_loss: 0.3923 - val_accuracy: 0.8947\n",
      "Epoch 5/10\n",
      "15/15 [==============================] - 0s 5ms/step - loss: 0.3828 - accuracy: 0.9231 - val_loss: 0.3503 - val_accuracy: 0.9035\n",
      "Epoch 6/10\n",
      "15/15 [==============================] - 0s 4ms/step - loss: 0.3390 - accuracy: 0.9319 - val_loss: 0.3167 - val_accuracy: 0.9123\n",
      "Epoch 7/10\n",
      "15/15 [==============================] - 0s 4ms/step - loss: 0.3033 - accuracy: 0.9363 - val_loss: 0.2899 - val_accuracy: 0.9123\n",
      "Epoch 8/10\n",
      "15/15 [==============================] - 0s 4ms/step - loss: 0.2737 - accuracy: 0.9385 - val_loss: 0.2680 - val_accuracy: 0.9123\n",
      "Epoch 9/10\n",
      "15/15 [==============================] - 0s 5ms/step - loss: 0.2492 - accuracy: 0.9451 - val_loss: 0.2499 - val_accuracy: 0.9123\n",
      "Epoch 10/10\n",
      "15/15 [==============================] - 0s 7ms/step - loss: 0.2286 - accuracy: 0.9451 - val_loss: 0.2349 - val_accuracy: 0.9123\n"
     ]
    },
    {
     "data": {
      "text/plain": [
       "<keras.callbacks.History at 0x15e9ba25490>"
      ]
     },
     "execution_count": 24,
     "metadata": {},
     "output_type": "execute_result"
    }
   ],
   "source": [
    "from sklearn.preprocessing import StandardScaler\n",
    "\n",
    "scaler = StandardScaler()\n",
    "x_train_scaled = scaler.fit_transform(x_train)\n",
    "x_test_scaled = scaler.transform(x_test)\n",
    "\n",
    "model = Sequential([\n",
    "    Dense(64, activation='relu', input_shape=(30,)),\n",
    "    Dense(32, activation='relu'),\n",
    "    Dense(16, activation='relu'),\n",
    "    Dense(1, activation='sigmoid')\n",
    "])\n",
    "model.compile(optimizer='sgd', loss='binary_crossentropy', metrics=['accuracy'])\n",
    "model.fit(x_train_scaled, y_train, epochs=10, validation_data=(x_test_scaled, y_test))\n"
   ]
  },
  {
   "cell_type": "code",
   "execution_count": 25,
   "metadata": {},
   "outputs": [
    {
     "name": "stderr",
     "output_type": "stream",
     "text": [
      "WARNING:absl:`lr` is deprecated in Keras optimizer, please use `learning_rate` or use the legacy optimizer, e.g.,tf.keras.optimizers.legacy.Adam.\n"
     ]
    },
    {
     "name": "stdout",
     "output_type": "stream",
     "text": [
      "Epoch 1/10\n",
      "15/15 [==============================] - 1s 21ms/step - loss: 0.4959 - accuracy: 0.8747 - val_loss: 0.3175 - val_accuracy: 0.9123\n",
      "Epoch 2/10\n",
      "15/15 [==============================] - 0s 5ms/step - loss: 0.2416 - accuracy: 0.9473 - val_loss: 0.1849 - val_accuracy: 0.9035\n",
      "Epoch 3/10\n",
      "15/15 [==============================] - 0s 5ms/step - loss: 0.1402 - accuracy: 0.9516 - val_loss: 0.1415 - val_accuracy: 0.9211\n",
      "Epoch 4/10\n",
      "15/15 [==============================] - 0s 6ms/step - loss: 0.1024 - accuracy: 0.9648 - val_loss: 0.1198 - val_accuracy: 0.9561\n",
      "Epoch 5/10\n",
      "15/15 [==============================] - 0s 5ms/step - loss: 0.0820 - accuracy: 0.9714 - val_loss: 0.1090 - val_accuracy: 0.9649\n",
      "Epoch 6/10\n",
      "15/15 [==============================] - 0s 5ms/step - loss: 0.0683 - accuracy: 0.9802 - val_loss: 0.1050 - val_accuracy: 0.9649\n",
      "Epoch 7/10\n",
      "15/15 [==============================] - 0s 5ms/step - loss: 0.0602 - accuracy: 0.9846 - val_loss: 0.1058 - val_accuracy: 0.9561\n",
      "Epoch 8/10\n",
      "15/15 [==============================] - 0s 5ms/step - loss: 0.0532 - accuracy: 0.9846 - val_loss: 0.1054 - val_accuracy: 0.9649\n",
      "Epoch 9/10\n",
      "15/15 [==============================] - 0s 5ms/step - loss: 0.0468 - accuracy: 0.9868 - val_loss: 0.1112 - val_accuracy: 0.9561\n",
      "Epoch 10/10\n",
      "15/15 [==============================] - 0s 5ms/step - loss: 0.0424 - accuracy: 0.9868 - val_loss: 0.1096 - val_accuracy: 0.9649\n"
     ]
    },
    {
     "data": {
      "text/plain": [
       "<keras.callbacks.History at 0x15e9de33e80>"
      ]
     },
     "execution_count": 25,
     "metadata": {},
     "output_type": "execute_result"
    }
   ],
   "source": [
    "from tensorflow.keras.optimizers import Adam\n",
    "\n",
    "model = Sequential([\n",
    "    Dense(64, activation='relu', input_shape=(30,)),\n",
    "    Dense(32, activation='relu'),\n",
    "    Dense(16, activation='relu'),\n",
    "    Dense(1, activation='sigmoid')\n",
    "])\n",
    "optimizer = Adam(lr=0.001)\n",
    "model.compile(optimizer=optimizer, loss='binary_crossentropy', metrics=['accuracy'])\n",
    "model.fit(x_train_scaled, y_train, epochs=10, validation_data=(x_test_scaled, y_test))\n"
   ]
  },
  {
   "cell_type": "code",
   "execution_count": 26,
   "metadata": {},
   "outputs": [
    {
     "name": "stderr",
     "output_type": "stream",
     "text": [
      "WARNING:absl:`lr` is deprecated in Keras optimizer, please use `learning_rate` or use the legacy optimizer, e.g.,tf.keras.optimizers.legacy.Adam.\n"
     ]
    },
    {
     "name": "stdout",
     "output_type": "stream",
     "text": [
      "Epoch 1/50\n",
      "15/15 [==============================] - 1s 14ms/step - loss: 0.5567 - accuracy: 0.7868 - val_loss: 0.4418 - val_accuracy: 0.8947\n",
      "Epoch 2/50\n",
      "15/15 [==============================] - 0s 4ms/step - loss: 0.3562 - accuracy: 0.9363 - val_loss: 0.2909 - val_accuracy: 0.9211\n",
      "Epoch 3/50\n",
      "15/15 [==============================] - 0s 4ms/step - loss: 0.2125 - accuracy: 0.9582 - val_loss: 0.1901 - val_accuracy: 0.9386\n",
      "Epoch 4/50\n",
      "15/15 [==============================] - 0s 4ms/step - loss: 0.1309 - accuracy: 0.9626 - val_loss: 0.1412 - val_accuracy: 0.9561\n",
      "Epoch 5/50\n",
      "15/15 [==============================] - 0s 4ms/step - loss: 0.0905 - accuracy: 0.9802 - val_loss: 0.1087 - val_accuracy: 0.9561\n",
      "Epoch 6/50\n",
      "15/15 [==============================] - 0s 4ms/step - loss: 0.0721 - accuracy: 0.9802 - val_loss: 0.0989 - val_accuracy: 0.9649\n",
      "Epoch 7/50\n",
      "15/15 [==============================] - 0s 4ms/step - loss: 0.0610 - accuracy: 0.9824 - val_loss: 0.0963 - val_accuracy: 0.9649\n",
      "Epoch 8/50\n",
      "15/15 [==============================] - 0s 4ms/step - loss: 0.0541 - accuracy: 0.9824 - val_loss: 0.0942 - val_accuracy: 0.9649\n",
      "Epoch 9/50\n",
      "15/15 [==============================] - 0s 4ms/step - loss: 0.0484 - accuracy: 0.9868 - val_loss: 0.0932 - val_accuracy: 0.9649\n",
      "Epoch 10/50\n",
      "15/15 [==============================] - 0s 9ms/step - loss: 0.0443 - accuracy: 0.9890 - val_loss: 0.0911 - val_accuracy: 0.9649\n",
      "Epoch 11/50\n",
      "15/15 [==============================] - 0s 8ms/step - loss: 0.0398 - accuracy: 0.9912 - val_loss: 0.0907 - val_accuracy: 0.9649\n",
      "Epoch 12/50\n",
      "15/15 [==============================] - 0s 6ms/step - loss: 0.0369 - accuracy: 0.9912 - val_loss: 0.0922 - val_accuracy: 0.9649\n",
      "Epoch 13/50\n",
      "15/15 [==============================] - 0s 5ms/step - loss: 0.0335 - accuracy: 0.9912 - val_loss: 0.0956 - val_accuracy: 0.9649\n",
      "Epoch 14/50\n",
      "15/15 [==============================] - 0s 5ms/step - loss: 0.0309 - accuracy: 0.9912 - val_loss: 0.0952 - val_accuracy: 0.9649\n",
      "Epoch 15/50\n",
      "15/15 [==============================] - 0s 5ms/step - loss: 0.0280 - accuracy: 0.9912 - val_loss: 0.0966 - val_accuracy: 0.9649\n",
      "Epoch 16/50\n",
      "15/15 [==============================] - 0s 5ms/step - loss: 0.0255 - accuracy: 0.9934 - val_loss: 0.0988 - val_accuracy: 0.9649\n",
      "Epoch 17/50\n",
      "15/15 [==============================] - 0s 5ms/step - loss: 0.0236 - accuracy: 0.9934 - val_loss: 0.1011 - val_accuracy: 0.9649\n",
      "Epoch 18/50\n",
      "15/15 [==============================] - 0s 9ms/step - loss: 0.0233 - accuracy: 0.9934 - val_loss: 0.1016 - val_accuracy: 0.9649\n",
      "Epoch 19/50\n",
      "15/15 [==============================] - 0s 4ms/step - loss: 0.0197 - accuracy: 0.9934 - val_loss: 0.1073 - val_accuracy: 0.9649\n",
      "Epoch 20/50\n",
      "15/15 [==============================] - 0s 4ms/step - loss: 0.0182 - accuracy: 0.9934 - val_loss: 0.1093 - val_accuracy: 0.9649\n",
      "Epoch 21/50\n",
      "15/15 [==============================] - 0s 4ms/step - loss: 0.0165 - accuracy: 0.9934 - val_loss: 0.1097 - val_accuracy: 0.9649\n",
      "Epoch 22/50\n",
      "15/15 [==============================] - 0s 4ms/step - loss: 0.0148 - accuracy: 0.9978 - val_loss: 0.1143 - val_accuracy: 0.9649\n",
      "Epoch 23/50\n",
      "15/15 [==============================] - 0s 4ms/step - loss: 0.0134 - accuracy: 0.9934 - val_loss: 0.1179 - val_accuracy: 0.9649\n",
      "Epoch 24/50\n",
      "15/15 [==============================] - 0s 4ms/step - loss: 0.0118 - accuracy: 0.9956 - val_loss: 0.1201 - val_accuracy: 0.9649\n",
      "Epoch 25/50\n",
      "15/15 [==============================] - 0s 4ms/step - loss: 0.0106 - accuracy: 0.9978 - val_loss: 0.1207 - val_accuracy: 0.9649\n",
      "Epoch 26/50\n",
      "15/15 [==============================] - 0s 4ms/step - loss: 0.0100 - accuracy: 0.9978 - val_loss: 0.1252 - val_accuracy: 0.9649\n",
      "Epoch 27/50\n",
      "15/15 [==============================] - 0s 4ms/step - loss: 0.0096 - accuracy: 0.9978 - val_loss: 0.1291 - val_accuracy: 0.9649\n",
      "Epoch 28/50\n",
      "15/15 [==============================] - 0s 5ms/step - loss: 0.0084 - accuracy: 0.9978 - val_loss: 0.1293 - val_accuracy: 0.9649\n",
      "Epoch 29/50\n",
      "15/15 [==============================] - 0s 5ms/step - loss: 0.0076 - accuracy: 0.9978 - val_loss: 0.1335 - val_accuracy: 0.9649\n",
      "Epoch 30/50\n",
      "15/15 [==============================] - 0s 5ms/step - loss: 0.0065 - accuracy: 1.0000 - val_loss: 0.1355 - val_accuracy: 0.9649\n",
      "Epoch 31/50\n",
      "15/15 [==============================] - 0s 4ms/step - loss: 0.0061 - accuracy: 1.0000 - val_loss: 0.1406 - val_accuracy: 0.9649\n",
      "Epoch 32/50\n",
      "15/15 [==============================] - 0s 4ms/step - loss: 0.0059 - accuracy: 0.9978 - val_loss: 0.1422 - val_accuracy: 0.9649\n",
      "Epoch 33/50\n",
      "15/15 [==============================] - 0s 7ms/step - loss: 0.0062 - accuracy: 1.0000 - val_loss: 0.1431 - val_accuracy: 0.9649\n",
      "Epoch 34/50\n",
      "15/15 [==============================] - 0s 4ms/step - loss: 0.0052 - accuracy: 1.0000 - val_loss: 0.1480 - val_accuracy: 0.9649\n",
      "Epoch 35/50\n",
      "15/15 [==============================] - 0s 4ms/step - loss: 0.0043 - accuracy: 1.0000 - val_loss: 0.1477 - val_accuracy: 0.9649\n",
      "Epoch 36/50\n",
      "15/15 [==============================] - 0s 4ms/step - loss: 0.0040 - accuracy: 1.0000 - val_loss: 0.1501 - val_accuracy: 0.9649\n",
      "Epoch 37/50\n",
      "15/15 [==============================] - 0s 5ms/step - loss: 0.0038 - accuracy: 1.0000 - val_loss: 0.1536 - val_accuracy: 0.9649\n",
      "Epoch 38/50\n",
      "15/15 [==============================] - 0s 10ms/step - loss: 0.0033 - accuracy: 1.0000 - val_loss: 0.1551 - val_accuracy: 0.9649\n",
      "Epoch 39/50\n",
      "15/15 [==============================] - 0s 10ms/step - loss: 0.0031 - accuracy: 1.0000 - val_loss: 0.1592 - val_accuracy: 0.9649\n",
      "Epoch 40/50\n",
      "15/15 [==============================] - 0s 4ms/step - loss: 0.0032 - accuracy: 1.0000 - val_loss: 0.1629 - val_accuracy: 0.9649\n",
      "Epoch 41/50\n",
      "15/15 [==============================] - 0s 5ms/step - loss: 0.0027 - accuracy: 1.0000 - val_loss: 0.1619 - val_accuracy: 0.9649\n",
      "Epoch 42/50\n",
      "15/15 [==============================] - 0s 4ms/step - loss: 0.0024 - accuracy: 1.0000 - val_loss: 0.1675 - val_accuracy: 0.9649\n",
      "Epoch 43/50\n",
      "15/15 [==============================] - 0s 4ms/step - loss: 0.0023 - accuracy: 1.0000 - val_loss: 0.1704 - val_accuracy: 0.9649\n",
      "Epoch 44/50\n",
      "15/15 [==============================] - 0s 5ms/step - loss: 0.0021 - accuracy: 1.0000 - val_loss: 0.1718 - val_accuracy: 0.9649\n",
      "Epoch 45/50\n",
      "15/15 [==============================] - 0s 10ms/step - loss: 0.0019 - accuracy: 1.0000 - val_loss: 0.1750 - val_accuracy: 0.9649\n",
      "Epoch 46/50\n",
      "15/15 [==============================] - 0s 8ms/step - loss: 0.0018 - accuracy: 1.0000 - val_loss: 0.1779 - val_accuracy: 0.9649\n",
      "Epoch 47/50\n",
      "15/15 [==============================] - 0s 7ms/step - loss: 0.0017 - accuracy: 1.0000 - val_loss: 0.1787 - val_accuracy: 0.9649\n",
      "Epoch 48/50\n",
      "15/15 [==============================] - 0s 6ms/step - loss: 0.0016 - accuracy: 1.0000 - val_loss: 0.1808 - val_accuracy: 0.9649\n",
      "Epoch 49/50\n",
      "15/15 [==============================] - 0s 4ms/step - loss: 0.0015 - accuracy: 1.0000 - val_loss: 0.1834 - val_accuracy: 0.9649\n",
      "Epoch 50/50\n",
      "15/15 [==============================] - 0s 4ms/step - loss: 0.0014 - accuracy: 1.0000 - val_loss: 0.1858 - val_accuracy: 0.9649\n"
     ]
    },
    {
     "data": {
      "text/plain": [
       "<keras.callbacks.History at 0x15e9e023340>"
      ]
     },
     "execution_count": 26,
     "metadata": {},
     "output_type": "execute_result"
    }
   ],
   "source": [
    "model = Sequential([\n",
    "    Dense(64, activation='relu', input_shape=(30,)),\n",
    "    Dense(32, activation='relu'),\n",
    "    Dense(16, activation='relu'),\n",
    "    Dense(1, activation='sigmoid')\n",
    "])\n",
    "optimizer = Adam(lr=0.001)\n",
    "model.compile(optimizer=optimizer, loss='binary_crossentropy', metrics=['accuracy'])\n",
    "model.fit(x_train_scaled, y_train, epochs=50, validation_data=(x_test_scaled, y_test))\n"
   ]
  },
  {
   "cell_type": "code",
   "execution_count": 27,
   "metadata": {},
   "outputs": [
    {
     "name": "stderr",
     "output_type": "stream",
     "text": [
      "WARNING:absl:`lr` is deprecated in Keras optimizer, please use `learning_rate` or use the legacy optimizer, e.g.,tf.keras.optimizers.legacy.Adam.\n"
     ]
    },
    {
     "name": "stdout",
     "output_type": "stream",
     "text": [
      "Epoch 1/50\n",
      "15/15 [==============================] - 1s 13ms/step - loss: 0.6092 - accuracy: 0.6901 - val_loss: 0.4443 - val_accuracy: 0.8772\n",
      "Epoch 2/50\n",
      "15/15 [==============================] - 0s 5ms/step - loss: 0.3486 - accuracy: 0.9253 - val_loss: 0.2720 - val_accuracy: 0.9123\n",
      "Epoch 3/50\n",
      "15/15 [==============================] - 0s 4ms/step - loss: 0.2078 - accuracy: 0.9516 - val_loss: 0.1868 - val_accuracy: 0.9211\n",
      "Epoch 4/50\n",
      "15/15 [==============================] - 0s 5ms/step - loss: 0.1353 - accuracy: 0.9604 - val_loss: 0.1436 - val_accuracy: 0.9474\n",
      "Epoch 5/50\n",
      "15/15 [==============================] - 0s 8ms/step - loss: 0.0993 - accuracy: 0.9692 - val_loss: 0.1190 - val_accuracy: 0.9561\n",
      "Epoch 6/50\n",
      "15/15 [==============================] - 0s 8ms/step - loss: 0.0816 - accuracy: 0.9736 - val_loss: 0.1045 - val_accuracy: 0.9737\n",
      "Epoch 7/50\n",
      "15/15 [==============================] - 0s 7ms/step - loss: 0.0709 - accuracy: 0.9736 - val_loss: 0.0904 - val_accuracy: 0.9825\n",
      "Epoch 8/50\n",
      "15/15 [==============================] - 0s 4ms/step - loss: 0.0615 - accuracy: 0.9846 - val_loss: 0.0884 - val_accuracy: 0.9825\n",
      "Epoch 9/50\n",
      "15/15 [==============================] - 0s 4ms/step - loss: 0.0554 - accuracy: 0.9846 - val_loss: 0.0881 - val_accuracy: 0.9912\n",
      "Epoch 10/50\n",
      "15/15 [==============================] - 0s 9ms/step - loss: 0.0503 - accuracy: 0.9846 - val_loss: 0.0838 - val_accuracy: 0.9912\n",
      "Epoch 11/50\n",
      "15/15 [==============================] - 0s 4ms/step - loss: 0.0446 - accuracy: 0.9846 - val_loss: 0.0871 - val_accuracy: 0.9825\n",
      "Epoch 12/50\n",
      "15/15 [==============================] - 0s 5ms/step - loss: 0.0403 - accuracy: 0.9934 - val_loss: 0.0874 - val_accuracy: 0.9825\n",
      "Epoch 13/50\n",
      "15/15 [==============================] - 0s 5ms/step - loss: 0.0372 - accuracy: 0.9934 - val_loss: 0.0901 - val_accuracy: 0.9825\n",
      "Epoch 14/50\n",
      "15/15 [==============================] - 0s 4ms/step - loss: 0.0362 - accuracy: 0.9934 - val_loss: 0.0902 - val_accuracy: 0.9737\n",
      "Epoch 15/50\n",
      "15/15 [==============================] - 0s 5ms/step - loss: 0.0299 - accuracy: 0.9934 - val_loss: 0.1056 - val_accuracy: 0.9825\n",
      "Epoch 16/50\n",
      "15/15 [==============================] - 0s 4ms/step - loss: 0.0291 - accuracy: 0.9934 - val_loss: 0.1106 - val_accuracy: 0.9825\n",
      "Epoch 17/50\n",
      "15/15 [==============================] - 0s 13ms/step - loss: 0.0258 - accuracy: 0.9934 - val_loss: 0.0997 - val_accuracy: 0.9737\n",
      "Epoch 18/50\n",
      "15/15 [==============================] - 0s 8ms/step - loss: 0.0240 - accuracy: 0.9934 - val_loss: 0.1090 - val_accuracy: 0.9825\n",
      "Epoch 19/50\n",
      "15/15 [==============================] - 0s 7ms/step - loss: 0.0210 - accuracy: 0.9934 - val_loss: 0.1115 - val_accuracy: 0.9737\n",
      "Epoch 20/50\n",
      "15/15 [==============================] - 0s 4ms/step - loss: 0.0189 - accuracy: 0.9934 - val_loss: 0.1169 - val_accuracy: 0.9737\n",
      "Epoch 21/50\n",
      "15/15 [==============================] - 0s 4ms/step - loss: 0.0175 - accuracy: 0.9934 - val_loss: 0.1251 - val_accuracy: 0.9649\n",
      "Epoch 22/50\n",
      "15/15 [==============================] - 0s 4ms/step - loss: 0.0153 - accuracy: 0.9956 - val_loss: 0.1260 - val_accuracy: 0.9649\n",
      "Epoch 23/50\n",
      "15/15 [==============================] - 0s 5ms/step - loss: 0.0143 - accuracy: 0.9934 - val_loss: 0.1296 - val_accuracy: 0.9649\n",
      "Epoch 24/50\n",
      "15/15 [==============================] - 0s 5ms/step - loss: 0.0130 - accuracy: 0.9934 - val_loss: 0.1344 - val_accuracy: 0.9649\n",
      "Epoch 25/50\n",
      "15/15 [==============================] - 0s 5ms/step - loss: 0.0127 - accuracy: 0.9956 - val_loss: 0.1360 - val_accuracy: 0.9649\n",
      "Epoch 26/50\n",
      "15/15 [==============================] - 0s 5ms/step - loss: 0.0109 - accuracy: 0.9956 - val_loss: 0.1433 - val_accuracy: 0.9649\n",
      "Epoch 27/50\n",
      "15/15 [==============================] - 0s 5ms/step - loss: 0.0094 - accuracy: 0.9978 - val_loss: 0.1391 - val_accuracy: 0.9561\n",
      "Epoch 28/50\n",
      "15/15 [==============================] - 0s 11ms/step - loss: 0.0086 - accuracy: 0.9978 - val_loss: 0.1478 - val_accuracy: 0.9561\n",
      "Epoch 29/50\n",
      "15/15 [==============================] - 0s 5ms/step - loss: 0.0086 - accuracy: 0.9956 - val_loss: 0.1562 - val_accuracy: 0.9561\n",
      "Epoch 30/50\n",
      "15/15 [==============================] - 0s 5ms/step - loss: 0.0071 - accuracy: 1.0000 - val_loss: 0.1591 - val_accuracy: 0.9561\n",
      "Epoch 31/50\n",
      "15/15 [==============================] - 0s 4ms/step - loss: 0.0064 - accuracy: 1.0000 - val_loss: 0.1725 - val_accuracy: 0.9561\n",
      "Epoch 32/50\n",
      "15/15 [==============================] - 0s 4ms/step - loss: 0.0057 - accuracy: 1.0000 - val_loss: 0.1763 - val_accuracy: 0.9561\n",
      "Epoch 33/50\n",
      "15/15 [==============================] - 0s 4ms/step - loss: 0.0051 - accuracy: 1.0000 - val_loss: 0.1806 - val_accuracy: 0.9561\n",
      "Epoch 34/50\n",
      "15/15 [==============================] - 0s 5ms/step - loss: 0.0048 - accuracy: 1.0000 - val_loss: 0.1848 - val_accuracy: 0.9561\n",
      "Epoch 35/50\n",
      "15/15 [==============================] - 0s 4ms/step - loss: 0.0042 - accuracy: 1.0000 - val_loss: 0.1881 - val_accuracy: 0.9561\n",
      "Epoch 36/50\n",
      "15/15 [==============================] - 0s 4ms/step - loss: 0.0040 - accuracy: 1.0000 - val_loss: 0.1969 - val_accuracy: 0.9474\n",
      "Epoch 37/50\n",
      "15/15 [==============================] - 0s 4ms/step - loss: 0.0036 - accuracy: 1.0000 - val_loss: 0.2005 - val_accuracy: 0.9561\n",
      "Epoch 38/50\n",
      "15/15 [==============================] - 0s 4ms/step - loss: 0.0032 - accuracy: 1.0000 - val_loss: 0.2056 - val_accuracy: 0.9474\n",
      "Epoch 39/50\n",
      "15/15 [==============================] - 0s 5ms/step - loss: 0.0030 - accuracy: 1.0000 - val_loss: 0.2120 - val_accuracy: 0.9474\n",
      "Epoch 40/50\n",
      "15/15 [==============================] - 0s 4ms/step - loss: 0.0028 - accuracy: 1.0000 - val_loss: 0.2171 - val_accuracy: 0.9474\n",
      "Epoch 41/50\n",
      "15/15 [==============================] - 0s 6ms/step - loss: 0.0025 - accuracy: 1.0000 - val_loss: 0.2211 - val_accuracy: 0.9474\n",
      "Epoch 42/50\n",
      "15/15 [==============================] - 0s 4ms/step - loss: 0.0023 - accuracy: 1.0000 - val_loss: 0.2194 - val_accuracy: 0.9561\n",
      "Epoch 43/50\n",
      "15/15 [==============================] - 0s 9ms/step - loss: 0.0022 - accuracy: 1.0000 - val_loss: 0.2244 - val_accuracy: 0.9561\n",
      "Epoch 44/50\n",
      "15/15 [==============================] - 0s 4ms/step - loss: 0.0020 - accuracy: 1.0000 - val_loss: 0.2328 - val_accuracy: 0.9474\n",
      "Epoch 45/50\n",
      "15/15 [==============================] - 0s 4ms/step - loss: 0.0019 - accuracy: 1.0000 - val_loss: 0.2385 - val_accuracy: 0.9474\n",
      "Epoch 46/50\n",
      "15/15 [==============================] - 0s 4ms/step - loss: 0.0018 - accuracy: 1.0000 - val_loss: 0.2396 - val_accuracy: 0.9474\n",
      "Epoch 47/50\n",
      "15/15 [==============================] - 0s 9ms/step - loss: 0.0016 - accuracy: 1.0000 - val_loss: 0.2443 - val_accuracy: 0.9474\n",
      "Epoch 48/50\n",
      "15/15 [==============================] - 0s 3ms/step - loss: 0.0015 - accuracy: 1.0000 - val_loss: 0.2496 - val_accuracy: 0.9474\n",
      "Epoch 49/50\n",
      "15/15 [==============================] - 0s 4ms/step - loss: 0.0014 - accuracy: 1.0000 - val_loss: 0.2568 - val_accuracy: 0.9474\n",
      "Epoch 50/50\n",
      "15/15 [==============================] - 0s 4ms/step - loss: 0.0014 - accuracy: 1.0000 - val_loss: 0.2578 - val_accuracy: 0.9474\n"
     ]
    },
    {
     "data": {
      "text/plain": [
       "<keras.callbacks.History at 0x15e9f1f70a0>"
      ]
     },
     "execution_count": 27,
     "metadata": {},
     "output_type": "execute_result"
    }
   ],
   "source": [
    "model = Sequential([\n",
    "    Dense(64, activation='relu', input_shape=(30,)),\n",
    "    Dense(32, activation='relu'),\n",
    "    Dense(16, activation='relu'),\n",
    "    Dense(1, activation='sigmoid')\n",
    "])\n",
    "optimizer = Adam(lr=0.001)\n",
    "model.compile(optimizer=optimizer, loss='binary_crossentropy', metrics=['accuracy'])\n",
    "model.fit(x_train_scaled, y_train, epochs=50, validation_data=(x_test_scaled, y_test))\n"
   ]
  },
  {
   "cell_type": "code",
   "execution_count": 28,
   "metadata": {},
   "outputs": [
    {
     "name": "stderr",
     "output_type": "stream",
     "text": [
      "WARNING:absl:`lr` is deprecated in Keras optimizer, please use `learning_rate` or use the legacy optimizer, e.g.,tf.keras.optimizers.legacy.Adam.\n"
     ]
    },
    {
     "name": "stdout",
     "output_type": "stream",
     "text": [
      "Epoch 1/50\n",
      "15/15 [==============================] - 1s 12ms/step - loss: 0.3821 - accuracy: 0.9275 - val_loss: 0.2624 - val_accuracy: 0.9298\n",
      "Epoch 2/50\n",
      "15/15 [==============================] - 0s 4ms/step - loss: 0.1801 - accuracy: 0.9582 - val_loss: 0.1794 - val_accuracy: 0.9386\n",
      "Epoch 3/50\n",
      "15/15 [==============================] - 0s 7ms/step - loss: 0.1083 - accuracy: 0.9714 - val_loss: 0.1329 - val_accuracy: 0.9649\n",
      "Epoch 4/50\n",
      "15/15 [==============================] - 0s 4ms/step - loss: 0.0793 - accuracy: 0.9802 - val_loss: 0.1189 - val_accuracy: 0.9737\n",
      "Epoch 5/50\n",
      "15/15 [==============================] - 0s 5ms/step - loss: 0.0660 - accuracy: 0.9802 - val_loss: 0.1126 - val_accuracy: 0.9737\n",
      "Epoch 6/50\n",
      "15/15 [==============================] - 0s 4ms/step - loss: 0.0570 - accuracy: 0.9802 - val_loss: 0.1150 - val_accuracy: 0.9737\n",
      "Epoch 7/50\n",
      "15/15 [==============================] - 0s 5ms/step - loss: 0.0487 - accuracy: 0.9846 - val_loss: 0.1187 - val_accuracy: 0.9737\n",
      "Epoch 8/50\n",
      "15/15 [==============================] - 0s 4ms/step - loss: 0.0430 - accuracy: 0.9868 - val_loss: 0.1182 - val_accuracy: 0.9737\n",
      "Epoch 9/50\n",
      "15/15 [==============================] - 0s 8ms/step - loss: 0.0388 - accuracy: 0.9868 - val_loss: 0.1304 - val_accuracy: 0.9737\n",
      "Epoch 10/50\n",
      "15/15 [==============================] - 0s 5ms/step - loss: 0.0355 - accuracy: 0.9934 - val_loss: 0.1345 - val_accuracy: 0.9737\n",
      "Epoch 11/50\n",
      "15/15 [==============================] - 0s 8ms/step - loss: 0.0319 - accuracy: 0.9934 - val_loss: 0.1387 - val_accuracy: 0.9737\n",
      "Epoch 12/50\n",
      "15/15 [==============================] - 0s 4ms/step - loss: 0.0289 - accuracy: 0.9934 - val_loss: 0.1459 - val_accuracy: 0.9737\n",
      "Epoch 13/50\n",
      "15/15 [==============================] - 0s 4ms/step - loss: 0.0263 - accuracy: 0.9934 - val_loss: 0.1469 - val_accuracy: 0.9649\n",
      "Epoch 14/50\n",
      "15/15 [==============================] - 0s 4ms/step - loss: 0.0275 - accuracy: 0.9934 - val_loss: 0.1457 - val_accuracy: 0.9649\n",
      "Epoch 15/50\n",
      "15/15 [==============================] - 0s 4ms/step - loss: 0.0231 - accuracy: 0.9934 - val_loss: 0.1666 - val_accuracy: 0.9649\n"
     ]
    },
    {
     "data": {
      "text/plain": [
       "<keras.callbacks.History at 0x15ea0bb9310>"
      ]
     },
     "execution_count": 28,
     "metadata": {},
     "output_type": "execute_result"
    }
   ],
   "source": [
    "from tensorflow.keras.callbacks import EarlyStopping\n",
    "\n",
    "model = Sequential([\n",
    "    Dense(64, activation='relu', input_shape=(30,)),\n",
    "    Dense(32, activation='relu'),\n",
    "    Dense(16, activation='relu'),\n",
    "    Dense(1, activation='sigmoid')\n",
    "])\n",
    "optimizer = Adam(lr=0.001)\n",
    "model.compile(optimizer=optimizer, loss='binary_crossentropy', metrics=['accuracy'])\n",
    "early_stop = EarlyStopping(monitor='val_loss', patience=10)\n",
    "model.fit(x_train_scaled, y_train, epochs=50, validation_data=(x_test_scaled, y_test), callbacks=[early_stop])\n"
   ]
  },
  {
   "cell_type": "code",
   "execution_count": null,
   "metadata": {},
   "outputs": [],
   "source": []
  },
  {
   "cell_type": "code",
   "execution_count": null,
   "metadata": {},
   "outputs": [],
   "source": []
  }
 ],
 "metadata": {
  "accelerator": "GPU",
  "colab": {
   "provenance": []
  },
  "gpuClass": "standard",
  "kernelspec": {
   "display_name": "Python 3 (ipykernel)",
   "language": "python",
   "name": "python3"
  },
  "language_info": {
   "codemirror_mode": {
    "name": "ipython",
    "version": 3
   },
   "file_extension": ".py",
   "mimetype": "text/x-python",
   "name": "python",
   "nbconvert_exporter": "python",
   "pygments_lexer": "ipython3",
   "version": "3.9.13"
  }
 },
 "nbformat": 4,
 "nbformat_minor": 1
}
